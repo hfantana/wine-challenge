{
 "cells": [
  {
   "cell_type": "markdown",
   "metadata": {},
   "source": [
    "# The Wine Challenge\n",
    "\n",
    "Original code below."
   ]
  },
  {
   "cell_type": "code",
   "execution_count": 3,
   "metadata": {},
   "outputs": [],
   "source": [
    "# wineheader.py\n",
    "\n",
    "from sklearn import preprocessing\n",
    "from sklearn.ensemble import RandomForestRegressor\n",
    "from sklearn.pipeline import make_pipeline\n",
    "from sklearn.model_selection import GridSearchCV\n",
    "from sklearn.metrics import mean_squared_error, r2_score\n",
    "from sklearn.model_selection import train_test_split\n",
    "from sklearn.linear_model import LogisticRegression\n",
    "from sklearn.metrics import confusion_matrix, accuracy_score\n",
    "import numpy as np                 \n",
    "import pandas as pd \n",
    "import sklearn\n",
    "import seaborn as sns\n",
    "import matplotlib.pyplot as plt\n",
    "from collections import Counter"
   ]
  },
  {
   "cell_type": "code",
   "execution_count": 4,
   "metadata": {},
   "outputs": [
    {
     "name": "stdout",
     "output_type": "stream",
     "text": [
      "\n",
      " EXTRACT FROM DATA SET \n",
      "\n",
      "   fixed acidity  volatile acidity  citric acid  residual sugar  chlorides  \\\n",
      "0            7.4              0.70         0.00             1.9      0.076   \n",
      "1            7.8              0.88         0.00             2.6      0.098   \n",
      "2            7.8              0.76         0.04             2.3      0.092   \n",
      "\n",
      "   free sulfur dioxide  total sulfur dioxide  density    pH  sulphates  \\\n",
      "0                 11.0                  34.0   0.9978  3.51       0.56   \n",
      "1                 25.0                  67.0   0.9968  3.20       0.68   \n",
      "2                 15.0                  54.0   0.9970  3.26       0.65   \n",
      "\n",
      "   alcohol  quality  \n",
      "0      9.4        5  \n",
      "1      9.8        5  \n",
      "2      9.8        5  \n",
      "\n",
      " \n",
      " COUNTS PER QUALITY: \n",
      "\n",
      "Counter({5: 681, 6: 638, 7: 199, 4: 53, 8: 18, 3: 10})\n",
      "\n",
      "\n"
     ]
    }
   ],
   "source": [
    "# Taken from wine-data.py\n",
    "\n",
    "# Read-in the data\n",
    "data = pd.read_csv('winequality-red.csv', sep=';')\n",
    "\n",
    "# Getting to know the data\n",
    "print ('\\n EXTRACT FROM DATA SET \\n')\n",
    "print(data.head(3))\n",
    "\n",
    "# Count of each target variable\n",
    "print('\\n \\n COUNTS PER QUALITY: \\n')\n",
    "print(Counter(data['quality']))\n",
    "print('\\n')"
   ]
  },
  {
   "cell_type": "code",
   "execution_count": 5,
   "metadata": {},
   "outputs": [
    {
     "name": "stdout",
     "output_type": "stream",
     "text": [
      "\n",
      " NUMBER OF WINES PER QUALITY-REVIEW \n",
      "\n",
      "Counter({'2': 1571, '3': 18, '1': 10})\n"
     ]
    }
   ],
   "source": [
    "# Taken from prepare-data.py\n",
    "\n",
    "# Replace quality by Reviews\n",
    "reviews = []\n",
    "for i in data['quality']:\n",
    "    if i >= 1 and i <= 3:\n",
    "        reviews.append('1')\n",
    "    elif i >= 4 and i <= 7:\n",
    "        reviews.append('2')\n",
    "    elif i >= 8 and i <= 10:\n",
    "        reviews.append('3')\n",
    "data['Reviews'] = reviews\n",
    "\n",
    "print('\\n NUMBER OF WINES PER QUALITY-REVIEW \\n')\n",
    "print(Counter(data['Reviews']))\n"
   ]
  },
  {
   "cell_type": "code",
   "execution_count": 6,
   "metadata": {},
   "outputs": [],
   "source": [
    "# Taken from wine-model.py\n",
    "\n",
    "#del data['quality']\n",
    "\n",
    "# Split data into test and training data\n",
    "\n",
    "y = data.Reviews\n",
    "X = data.drop('Reviews', axis=1)\n",
    "test_size = 0.2\n",
    "X_train, X_test, y_train, y_test = train_test_split(X, y,\n",
    "                                                    test_size=test_size,\n",
    "                                                    random_state=123,\n",
    "                                                    stratify=y)\n",
    "\n",
    "# Build and train machine learning model\n",
    "#model = INSERT-MODEL-HERE\n",
    "#model.fit(X_train, y_train)\n",
    "#model_predict = model.predict(X_test)\n",
    "\n",
    "# Calculae and print the accuracy of the model for the test data\n",
    "#model_acc_score = accuracy_score(y_test, model_predict)\n",
    "#print('Your model scored the following accuracy:')\n",
    "#print(model_acc_score*100)\n"
   ]
  },
  {
   "cell_type": "code",
   "execution_count": 7,
   "metadata": {},
   "outputs": [
    {
     "name": "stdout",
     "output_type": "stream",
     "text": [
      "The accuracy of the model for the test data is:\n",
      "98.75\n",
      "The accuracy of the model for the training data is:\n",
      "99.13995308835027\n",
      "Confusion matrix for test data\n",
      "[[  1   0   0]\n",
      " [  1 314   3]\n",
      " [  0   0   1]]\n",
      "Confusion matrix for training data\n",
      "[[   5    0    0]\n",
      " [   3 1257    8]\n",
      " [   0    0    6]]\n"
     ]
    },
    {
     "name": "stderr",
     "output_type": "stream",
     "text": [
      "/Users/horatiu/anaconda3/envs/tf/lib/python3.7/site-packages/sklearn/linear_model/_logistic.py:940: ConvergenceWarning: lbfgs failed to converge (status=1):\n",
      "STOP: TOTAL NO. of ITERATIONS REACHED LIMIT.\n",
      "\n",
      "Increase the number of iterations (max_iter) or scale the data as shown in:\n",
      "    https://scikit-learn.org/stable/modules/preprocessing.html\n",
      "Please also refer to the documentation for alternative solver options:\n",
      "    https://scikit-learn.org/stable/modules/linear_model.html#logistic-regression\n",
      "  extra_warning_msg=_LOGISTIC_SOLVER_CONVERGENCE_MSG)\n"
     ]
    }
   ],
   "source": [
    "# Taken from wine-model-2.py\n",
    "\n",
    "# Build and train machine learning model\n",
    "lr = LogisticRegression()\n",
    "lr.fit(X_train, y_train)\n",
    "lr_predict = lr.predict(X_test)\n",
    "lr_predict_train = lr.predict(X_train)\n",
    "\n",
    "# Print accuracy score for test data\n",
    "lr_acc_score = accuracy_score(y_test, lr_predict)\n",
    "print('The accuracy of the model for the test data is:')\n",
    "print(lr_acc_score*100)\n",
    "\n",
    "# Print accuracy score for training data\n",
    "lr_acc_score = accuracy_score(y_train, lr_predict_train)\n",
    "print('The accuracy of the model for the training data is:')\n",
    "print(lr_acc_score*100)\n",
    "\n",
    "# Print confusion matrix for test data\n",
    "lr_conf_matrix = confusion_matrix(y_test, lr_predict)\n",
    "lr_conf_matrix=lr_conf_matrix.transpose()\n",
    "print('Confusion matrix for test data')\n",
    "print(lr_conf_matrix)\n",
    "\n",
    "# Print confusion matrix for training data\n",
    "lr_conf_matrix = confusion_matrix(y_train, lr_predict_train)\n",
    "lr_conf_matrix=lr_conf_matrix.transpose()\n",
    "print('Confusion matrix for training data')\n",
    "print(lr_conf_matrix)\n",
    "\n"
   ]
  },
  {
   "cell_type": "code",
   "execution_count": null,
   "metadata": {},
   "outputs": [],
   "source": []
  },
  {
   "cell_type": "code",
   "execution_count": null,
   "metadata": {},
   "outputs": [],
   "source": []
  }
 ],
 "metadata": {
  "kernelspec": {
   "display_name": "Python 3",
   "language": "python",
   "name": "python3"
  },
  "language_info": {
   "codemirror_mode": {
    "name": "ipython",
    "version": 3
   },
   "file_extension": ".py",
   "mimetype": "text/x-python",
   "name": "python",
   "nbconvert_exporter": "python",
   "pygments_lexer": "ipython3",
   "version": "3.8.3"
  }
 },
 "nbformat": 4,
 "nbformat_minor": 4
}
