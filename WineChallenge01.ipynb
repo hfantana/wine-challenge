{
 "cells": [
  {
   "cell_type": "markdown",
   "metadata": {},
   "source": [
    "# The Taste of Machine Learning"
   ]
  },
  {
   "cell_type": "markdown",
   "metadata": {},
   "source": [
    "How do you know if a wine is good or bad? A sommelier might tell you that the chemical properties of wine affect the taste and the quality of the wine. What if we could test this using machine learning?"
   ]
  },
  {
   "cell_type": "markdown",
   "metadata": {},
   "source": [
    "**Please note**: This exercise is based on a Jupyter notebook, an interactive environment for writing and running code, and is running in Python. To get familiar with working in Jupyter notebooks, see our 2-minute [JupyterLab Tutorial](https://www.university4industry.com/player/chapter/jupyterlab-tutorial).\n",
    "\n",
    "<div class=\"alert alert-block alert-info\">A cell like this indicates a question you need to answer in the Answers.txt file. Please answer the question <b>before</b> continuing through the notebook. You can <b>double click on Answers.txt</b> in the Left Sidebar now to open it in a new tab. As you go through the notebook, navigate between the tabs to answer questions.\n",
    "</div>"
   ]
  },
  {
   "cell_type": "markdown",
   "metadata": {},
   "source": [
    "## Table of contents\n",
    "\n",
    "1. [Introduction](#1.-Introduction)\n",
    "\n",
    "2. [Get familiar with the data](#2.-Get-familiar-with-the-data)\n",
    "\n",
    "3. [Further explore the data](#3.-Further-explore-the-data)\n",
    "\n",
    "4. [Prepare the data](#4.-Prepare-the-data)\n",
    "\n",
    "   1. [Remove less relevant features](#4A.-Remove-less-relevant-features)\n",
    "   2. [Convert text-based features](#4B.-Convert-text-based-features)\n",
    "   3. [Fill in missing data](#4C.-Fill-in-missing-data)\n",
    "   4. [Derive new features](#4D.-Derive-new-features)\n",
    "   \n",
    "   \n",
    "5. [Train and evaluate a model](#5.-Train-and-evaluate-a-model)\n",
    "\n",
    "6. [Sources](#Sources)"
   ]
  },
  {
   "cell_type": "markdown",
   "metadata": {},
   "source": [
    "## 1. Introduction\n",
    "\n",
    "[[ go back to the top ]](#Table-of-contents)"
   ]
  },
  {
   "cell_type": "markdown",
   "metadata": {},
   "source": [
    "In this challenge, we will build a predictive model to answer the question **\"What makes a wine good or bad?\"**. We will use a real data set of 1599 red Vinho Verde wine samples from the northern Portugal (add link to data set). Our data includes a number of variables that come from chemical tests and a variable `Quality` which is a score from 1-10 given by experts. Our hypothesis is that chemical properties contribute to wine quality and therefore make a wine \"good\" or \"bad\", and we want to create model that can predict the quality of previously unseen wines. \n",
    "\n",
    "To do so we will first explore our data set and create some visualizations to gather some insights about which varaibles int he data set might contribite to wine quality. We will then, create a model using a part of the data set and evaluate it to determine how effective the model would be at predciting wine wulaity when given previously unseen wines. \n",
    "\n",
    "By the end of this tutorial, you will get a basic understanding of how to analyze a large data set and extract some insights from it. You will also learn the importance of the training data set and its quality for creating a preditive machine learning model. "
   ]
  },
  {
   "cell_type": "markdown",
   "metadata": {},
   "source": [
    "## 2. Get familiar with the data\n",
    "\n",
    "[[ go back to the top ]](#Table-of-contents)"
   ]
  },
  {
   "cell_type": "markdown",
   "metadata": {},
   "source": [
    "Before we start exploring, we need to import some libraries that will help us with our calculations and visualizations. \n",
    "\n",
    "*Remember to press ***Shift+Enter*** to run each code cell.*"
   ]
  },
  {
   "cell_type": "code",
   "execution_count": null,
   "metadata": {},
   "outputs": [],
   "source": [
    "# Import data analysis libraries\n",
    "import pandas as pd\n",
    "import numpy as np\n",
    "import random as rnd\n",
    "\n",
    "# Import visualization libraries\n",
    "import seaborn as sns\n",
    "import matplotlib.pyplot as plt\n",
    "%matplotlib inline\n",
    "import warnings\n",
    "warnings.filterwarnings(\"ignore\")\n",
    "\n",
    "#Linear regression and confusion matrix\n",
    "import sklearn as sk\n",
    "from sklearn.model_selection import train_test_split \n",
    "from sklearn.linear_model import LinearRegression \n",
    "from sklearn.metrics import confusion_matrix\n",
    "from sklearn import metrics \n",
    "\n",
    "# Note: this cell and some of the cells below produce no visible output\n",
    "# The sucessful execution of a code cell is indicated by the number in the brackets [ ] on the left"
   ]
  },
  {
   "cell_type": "markdown",
   "metadata": {},
   "source": [
    "Now, let's import our data set `winequality-red.csv` and take a look at it:"
   ]
  },
  {
   "cell_type": "code",
   "execution_count": null,
   "metadata": {},
   "outputs": [],
   "source": [
    "# Load data from file into a new object called \"wine_data\"\n",
    "wine_data = pd.read_csv('winequality-red.csv', sep=';')\n",
    "\n",
    "# Show first 15 rows of data set\n",
    "wine_data.head(15)"
   ]
  },
  {
   "cell_type": "markdown",
   "metadata": {},
   "source": [
    "Our data set includes 11 variables (the predictors of wine quality):\\\n",
    "<b>Fixed acidity</b> (tartaric acid - g / dm^3)\\\n",
    "<b>Volatile acidity</b> (acetic acid - g / dm^3)\\\n",
    "<b>Citric acid</b> (g / dm^3)\\\n",
    "<b>Residual sugar</b> (g / dm^3)\\\n",
    "<b>Chlorides</b> (sodium chloride - g / dm^3\\\n",
    "<b>Free sulfur dioxide</b> (mg / dm^3)\\\n",
    "<b>Total sulfur dioxide</b> (mg / dm^3)\\\n",
    "<b>Density</b> (g / cm^3)\\\n",
    "<b>pH</b>\\\n",
    "<b>Sulfates</b> (potassium sulfate - g / dm^3)\\\n",
    "<b>Alcohol</b> (% by volume)\n",
    "\n",
    "There is also one variable based on sensory data (the target variable):\\\n",
    "<b>Quality</b> (score from 1 to 10)\n"
   ]
  },
  {
   "cell_type": "markdown",
   "metadata": {},
   "source": [
    "## 3. Further explore the data\n",
    "\n",
    "[[ go back to the top ]](#Table-of-contents)\n",
    "\n",
    "In addition to descriptive statistics, **data visualization** can be a powerful tool. Data visualizations allow us to see trends and patterns and relationships between variables because our brains are very good at spotting patterns on pictures."
   ]
  },
  {
   "cell_type": "markdown",
   "metadata": {},
   "source": [
    "As our target variable, or the variable we want to predict with our model, is `Quality`, let's start by visualizing the quality of wines in our data set."
   ]
  },
  {
   "cell_type": "code",
   "execution_count": null,
   "metadata": {},
   "outputs": [],
   "source": [
    "# Create histogram of the target variable (Quality)\n",
    "sns.countplot(x='quality', data=wine_data)\n",
    "plt.show()"
   ]
  },
  {
   "cell_type": "markdown",
   "metadata": {},
   "source": [
    "<div class=\"alert alert-block alert-info\">Pause! Answer <b>Question 1</b> in the Answers.txt file. \n",
    "    \n",
    "Which 2 wine qualities are most common in our data set? </div>"
   ]
  },
  {
   "cell_type": "markdown",
   "metadata": {},
   "source": [
    "We can also create a heat map to visualize which variabels correlate with eachother."
   ]
  },
  {
   "cell_type": "code",
   "execution_count": null,
   "metadata": {},
   "outputs": [],
   "source": [
    "plt.subplots(figsize=(15, 10))\n",
    "sns.heatmap(wine_data.corr(), annot = True, cmap = \"coolwarm\")\n",
    "plt.show()"
   ]
  },
  {
   "cell_type": "markdown",
   "metadata": {},
   "source": [
    "The correlation coefficient ranges from –1 to 1. When it is closer to 1, there is a strong positive correlation (e.g., `quality` goes up when `alcohol` goes up. When the coefficient is closer to –1, there is a strong negative correlation (e.g, you can see a small negative correlation between the `volatile acidity` and `quality` . Finally, coefficients close to zero mean that there is no correlation."
   ]
  },
  {
   "cell_type": "markdown",
   "metadata": {},
   "source": [
    "There are a lot of numbers in this heat map so let's look a little closer at two specific variables: `pH` and `fixed acidity`."
   ]
  },
  {
   "cell_type": "code",
   "execution_count": null,
   "metadata": {},
   "outputs": [],
   "source": [
    "#Visualize the correlation between pH and fixed ycidity\n",
    "\n",
    "#Create a new dataframe containing only pH and fixed acidity columns \n",
    "fixedAcidity_pH = wine_data[['pH', 'fixed acidity']]\n",
    "\n",
    "#Initialize a joint-grid with the dataframe, using seaborn library\n",
    "gridA = sns.JointGrid(x=\"fixed acidity\", y=\"pH\", data=fixedAcidity_pH, size=6)\n",
    "\n",
    "#Draws a regression plot in the grid \n",
    "gridA = gridA.plot_joint(sns.regplot, scatter_kws={\"s\": 10})\n",
    "\n",
    "#Draws a distribution plot in the same grid\n",
    "gridA = gridA.plot_marginals(sns.distplot)"
   ]
  },
  {
   "cell_type": "markdown",
   "metadata": {},
   "source": [
    "This scatter plot shows that, as fixed acidity levels increase, pH levels drop. Makes sense doesn’t it? A lower pH level is an indicator of high acidity."
   ]
  },
  {
   "cell_type": "markdown",
   "metadata": {},
   "source": [
    "Let's try another one: alcohol and quality. Since there are several discrete categories of `quality`, we can use a bar graph to visualize this."
   ]
  },
  {
   "cell_type": "code",
   "execution_count": null,
   "metadata": {},
   "outputs": [],
   "source": [
    "#Visualize the correlation between alcohol and quality\n",
    "\n",
    "#Create a new dataframe containing only alcohol and quality columns \n",
    "alcohol_quality = wine_data[['alcohol', 'quality']]\n",
    "\n",
    "fig, axs = plt.subplots(ncols=1,figsize=(10,6))\n",
    "sns.barplot(x='quality', y='alcohol', data=alcohol_quality, ax=axs)\n",
    "plt.title('quality VS alcohol')\n",
    "\n",
    "plt.tight_layout()\n",
    "plt.show()"
   ]
  },
  {
   "cell_type": "markdown",
   "metadata": {},
   "source": [
    "<div class=\"alert alert-block alert-info\">Pause! Answer <b>Question 2</b> in the Answers.txt file. \n",
    "    \n",
    "Describe the relationship between the variables quality and alcohol in 1 sentence.</div>"
   ]
  },
  {
   "cell_type": "markdown",
   "metadata": {},
   "source": [
    "## 4. Prepare the data\n",
    "\n",
    "[[ go back to the top ]](#Table-of-contents)"
   ]
  },
  {
   "cell_type": "markdown",
   "metadata": {},
   "source": [
    "Since we are trying to create a model that classifies wines, let's adapt our data set to reflect this and divide it into 3 classes:\\\n",
    "<b>Poor</b>: all wines rated 4 or lower\\\n",
    "<b>Average</b>: wines rated 5 and 6\\\n",
    "<b>Excellent</b>: wines rated 7 or higher\n",
    "\n",
    "We can represent these 3 categories by numbers 1 (Poor), 2 (Average), and 3 (Excellent) in a 13th variable called `review`. "
   ]
  },
  {
   "cell_type": "code",
   "execution_count": null,
   "metadata": {},
   "outputs": [],
   "source": [
    "# Replace `quality` by `review`\n",
    "reviews = []\n",
    "for i in wine_data['quality']:\n",
    "    if i >= 1 and i <= 3:\n",
    "        reviews.append('1')\n",
    "    elif i >= 4 and i <= 7:\n",
    "        reviews.append('2')\n",
    "    elif i >= 8 and i <= 10:\n",
    "        reviews.append('3')\n",
    "wine_data['review'] = reviews"
   ]
  },
  {
   "cell_type": "code",
   "execution_count": null,
   "metadata": {},
   "outputs": [],
   "source": [
    "#Show first 5 rows of data set with 13th variable added\n",
    "wine_data.head(5)"
   ]
  },
  {
   "cell_type": "markdown",
   "metadata": {},
   "source": [
    "Now, let's look at the count of each type of review (Poor (1), Average (2), Excellent(3)) in our data set."
   ]
  },
  {
   "cell_type": "code",
   "execution_count": null,
   "metadata": {},
   "outputs": [],
   "source": [
    "# Create histogram of the target variable (Review)\n",
    "sns.countplot(x='review', data=wine_data)\n",
    "plt.show()"
   ]
  },
  {
   "cell_type": "markdown",
   "metadata": {},
   "source": [
    "<div class=\"alert alert-block alert-info\">Pause! Answer <b>Question 3</b> in the Answers.txt file. \n",
    "    \n",
    "What do you notice about how many wines there are of each review type? Why might this be a problem for our machine learning model? --is this question too advanced?"
   ]
  },
  {
   "cell_type": "markdown",
   "metadata": {},
   "source": [
    "## 5. Train and evaluate the model\n",
    "\n",
    "[[ go back to the top ]](#Table-of-contents)"
   ]
  },
  {
   "cell_type": "markdown",
   "metadata": {},
   "source": [
    "Before we train and test our model we need to split our data set into two groups: a training set (80%), and a test set (20%). The training set will be used to build our machine learning model, and the test set will be used to see how well the model performs on new, unseen data."
   ]
  },
  {
   "cell_type": "code",
   "execution_count": null,
   "metadata": {},
   "outputs": [],
   "source": [
    "#Define review variable as dependent variable (y) and all other variables as independent variables (x)\n",
    "y = wine_data.review\n",
    "x = wine_data.drop('review', axis=1)\n",
    "\n",
    "#Split data into training and test set\n",
    "x_train,x_test,y_train,y_test=train_test_split(x,y,random_state=3)"
   ]
  },
  {
   "cell_type": "markdown",
   "metadata": {},
   "source": [
    "There are a number of models that we can use. Since we have want to solve a classification problem (is a wine poor, average, or excellent?), we can use the logistic regression algorithm. "
   ]
  },
  {
   "cell_type": "code",
   "execution_count": null,
   "metadata": {},
   "outputs": [],
   "source": [
    "# Fit training data to model\n",
    "classifier = LogisticRegression(random_state = 0)\n",
    "classifier.fit(x_train, y_train)"
   ]
  },
  {
   "cell_type": "code",
   "execution_count": null,
   "metadata": {},
   "outputs": [],
   "source": [
    "#Test model\n",
    "y_pred = classifier.predict(x_test)"
   ]
  },
  {
   "cell_type": "code",
   "execution_count": null,
   "metadata": {},
   "outputs": [],
   "source": [
    "# Print accuracy score of model\n",
    "lr_acc_score = accuracy_score(y_test, lr_predict)\n",
    "print('The accuracy of the model for the test data is:')\n",
    "print(lr_acc_score*100)"
   ]
  },
  {
   "cell_type": "markdown",
   "metadata": {},
   "source": [
    "<div class=\"alert alert-block alert-info\">Pause! Answer <b>Question 4</b> in the Answers.txt file. \n",
    "    \n",
    "What does this score tell us about our model? How good is the model at prediciting wine quality? Note: Think about the data we used to test the model. --is this question too advanced?"
   ]
  },
  {
   "cell_type": "markdown",
   "metadata": {},
   "source": [
    "Something explantory here about confustion matrix"
   ]
  },
  {
   "cell_type": "markdown",
   "metadata": {},
   "source": [
    "The confusion matrix compares the predicted (wine review) values by the model with the actual (wine review) values. The number of correct and incorrect predictions are summarized with numbers, broken down by class. These numbers are organized into a table or matrix where each row represents the predicted values and each column represents the actual values."
   ]
  },
  {
   "cell_type": "code",
   "execution_count": null,
   "metadata": {},
   "outputs": [],
   "source": [
    "sk.metrics.confusion_matrix(y_test, y_pred)\n",
    "labels = ['1', '2', '3']\n",
    "cm = confusion_matrix(y_test, y_pred, labels)\n",
    "\n",
    "ax = plt.subplot()\n",
    "sns.heatmap(cm, annot=True, ax = ax); #annot=True to annotate cells\n",
    "\n",
    "# labels, title and ticks\n",
    "ax.set_xlabel('Predicted review');ax.set_ylabel('True review'); \n",
    "ax.xaxis.set_ticklabels(['Poor', 'Average', 'Excellent']); ax.yaxis.set_ticklabels(['Poor', 'Average', 'Excellent']);"
   ]
  },
  {
   "cell_type": "markdown",
   "metadata": {},
   "source": [
    "Question here about how to make our model better, esp with regards to the data used to train the model (need more bad and excellent wines)?"
   ]
  },
  {
   "cell_type": "code",
   "execution_count": null,
   "metadata": {},
   "outputs": [],
   "source": []
  }
 ],
 "metadata": {
  "kernelspec": {
   "display_name": "Python 3",
   "language": "python",
   "name": "python3"
  },
  "language_info": {
   "codemirror_mode": {
    "name": "ipython",
    "version": 3
   },
   "file_extension": ".py",
   "mimetype": "text/x-python",
   "name": "python",
   "nbconvert_exporter": "python",
   "pygments_lexer": "ipython3",
   "version": "3.8.3"
  }
 },
 "nbformat": 4,
 "nbformat_minor": 4
}
